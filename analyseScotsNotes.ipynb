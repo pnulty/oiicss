{
 "metadata": {
  "name": "",
  "signature": "sha256:0d2d85d7857174a2f04879994a7244b5590473fa819561f863cdc7560f6cd058"
 },
 "nbformat": 3,
 "nbformat_minor": 0,
 "worksheets": [
  {
   "cells": [
    {
     "cell_type": "code",
     "collapsed": false,
     "input": [
      "import pandas as pd\n",
      "import ujson\n",
      "import codecs\n",
      "import cPickle\n",
      "import nltk\n",
      "import matplotlib.pyplot as plt; plt.rcdefaults()\n",
      "import numpy as np\n",
      "import matplotlib.pyplot as plt\n",
      "import math\n",
      "from collections import Counter\n",
      "\n",
      "pi = open('/home/paul/backup/2014-09-18.pickle')\n",
      "data = cPickle.load(pi)\n",
      "print(\"opened.\")\n",
      "\n",
      "data = data[0:100000]"
     ],
     "language": "python",
     "metadata": {},
     "outputs": [
      {
       "output_type": "stream",
       "stream": "stdout",
       "text": [
        "opened.\n"
       ]
      }
     ],
     "prompt_number": 1
    },
    {
     "cell_type": "code",
     "collapsed": false,
     "input": [
      "vocab =set()\n",
      "texts = [d[0] for d in data]\n",
      "\n",
      "all_toks = []\n",
      "word_dict = {}\n",
      "i=0\n",
      "for t in texts:\n",
      "    i=i+1\n",
      "    if(i%2000==0): print i\n",
      "    tokens = nltk.word_tokenize(t)\n",
      "    for tok in tokens:\n",
      "        all_toks.append(tok)"
     ],
     "language": "python",
     "metadata": {},
     "outputs": [
      {
       "output_type": "stream",
       "stream": "stdout",
       "text": [
        "2000\n",
        "4000"
       ]
      },
      {
       "output_type": "stream",
       "stream": "stdout",
       "text": [
        "\n",
        "6000"
       ]
      },
      {
       "output_type": "stream",
       "stream": "stdout",
       "text": [
        "\n",
        "8000"
       ]
      },
      {
       "output_type": "stream",
       "stream": "stdout",
       "text": [
        "\n"
       ]
      }
     ],
     "prompt_number": 2
    },
    {
     "cell_type": "code",
     "collapsed": false,
     "input": [
      "word_dict = Counter(all_toks)\n",
      "word_dict.most_common(20)"
     ],
     "language": "python",
     "metadata": {},
     "outputs": [
      {
       "metadata": {},
       "output_type": "pyout",
       "prompt_number": 3,
       "text": [
        "[('the', 4556),\n",
        " ('!', 4267),\n",
        " (',', 4026),\n",
        " ('hashsymbindyref', 3788),\n",
        " ('to', 3451),\n",
        " ('Scotland', 3117),\n",
        " ('hashsymbbettertogether', 2885),\n",
        " ('hashsymbVoteYes', 2690),\n",
        " ('a', 2258),\n",
        " ('I', 2226),\n",
        " ('and', 2046),\n",
        " ('vote', 1974),\n",
        " ('of', 1950),\n",
        " ('for', 1756),\n",
        " (\"'s\", 1751),\n",
        " ('in', 1702),\n",
        " ('is', 1630),\n",
        " ('you', 1427),\n",
        " ('be', 1303),\n",
        " ('it', 1281)]"
       ]
      }
     ],
     "prompt_number": 3
    },
    {
     "cell_type": "code",
     "collapsed": false,
     "input": [
      "import matplotlib.pyplot as plt; plt.rcdefaults()\n",
      "import numpy as np\n",
      "import matplotlib.pyplot as plt\n",
      "import math"
     ],
     "language": "python",
     "metadata": {},
     "outputs": [],
     "prompt_number": 5
    },
    {
     "cell_type": "code",
     "collapsed": false,
     "input": [
      "# Counter data, counter is your counter object\n",
      "keys = word_dict.keys()\n",
      "\n",
      "# get the counts for each key, assuming the values are numerical\n",
      "freqs = [word_dict[k]+1 for k in keys]\n",
      "freqs = set(freqs)\n",
      "freqs = list(freqs)\n",
      "\n",
      "freqs.sort(reverse=True)\n",
      "ranks = np.arange(len(freqs))\n",
      "\n",
      "\n",
      "plt.scatter(ranks, freqs)\n",
      "plt.xlabel('Rank', fontsize=28)\n",
      "plt.ylabel('Frequency', fontsize=28)\n",
      "plt.title('Highly skewed term-frequency distribution')\n",
      "\n",
      "plt.show()"
     ],
     "language": "python",
     "metadata": {},
     "outputs": [],
     "prompt_number": 6
    },
    {
     "cell_type": "code",
     "collapsed": false,
     "input": [
      "# log-log data\n",
      "lranks = [math.log(1+r, 3) for r in ranks]\n",
      "lfreqs = [math.log(1+f, 3 ) for f in freqs]\n",
      "plt.scatter(lfreqs, lranks)\n",
      "plt.xlabel('Log rank',fontsize=28)\n",
      "plt.ylabel('Log frequency',fontsize=28)\n",
      "plt.title('Log-log rank frequency plot')\n",
      "\n",
      "plt.show()\n"
     ],
     "language": "python",
     "metadata": {},
     "outputs": [],
     "prompt_number": 48
    }
   ],
   "metadata": {}
  }
 ]
}