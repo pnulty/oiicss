{
 "metadata": {
  "name": "",
  "signature": "sha256:2b391849c1d709cea7055807569d128a8a0a646409684351c02f470c6bd54786"
 },
 "nbformat": 3,
 "nbformat_minor": 0,
 "worksheets": [
  {
   "cells": [
    {
     "cell_type": "code",
     "collapsed": false,
     "input": [
      "import pandas as pd\n",
      "2+2"
     ],
     "language": "python",
     "metadata": {},
     "outputs": [],
     "prompt_number": 1
    }
   ],
   "metadata": {}
  }
 ]
}